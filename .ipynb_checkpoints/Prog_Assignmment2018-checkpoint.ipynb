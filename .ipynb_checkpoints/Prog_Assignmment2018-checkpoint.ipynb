{
 "cells": [
  {
   "cell_type": "markdown",
   "metadata": {},
   "source": [
    "# Assignment 2018\n",
    "## Investigation into the use of numpy.random package"
   ]
  },
  {
   "cell_type": "markdown",
   "metadata": {},
   "source": [
    "## Question 1. Explain the overall purpose of the package.\n",
    "\n",
    "In addition to the Python Standard Library there are thousands of modules and packages available to programmers and developers (python.org,2018). A quick scroll through the pypi.org website, a repository of software for the Python programmng language, will reveal the vast array of packages available (pypi.org 2018). One of the most popular of these is Numpy.\n",
    "\n",
    "Numpy is a package or library for the Python programming language used to carry out mathematical and scientific functions. Numpy has been described as a \"high performance programming extension for Python\" (Lutz,2013,p14). It contains advanced tools such as an array object and interfaces to standard mathemarical libraries (Lutz,2013,p14).\n",
    "It is commonly used in Data Analtyics and Data Science. Numpy.random is part of the Numpy library.\n",
    "\n",
    "The Numpy.random package is used to generate and display randomly generated data and probability distributions.  The package has four sections each containing numerous functions. The four sections are Simple Random Data, Permutations, Distributions and Random Generator.\n",
    "#### Importing Nupmy.\n",
    "Before you can use the numpy package in python you have to import it. Importing a module or package allows python code in one module to gain access to python code in another module (python.org,2018). If you have installed Anaconda on your machine then Numpy is available to you as part of the Anaconda programme.\n",
    "\n",
    "Importing is done using the \"import\" command. The code cell below contains the import commands for both numpy and matplotlib.pyplot.\n",
    "\n",
    "Both of these packages have been imported \"as\" something. For example, line 1 in the code cell below is:\n",
    "\n",
    "import numpy as np\n",
    "\n",
    "This means that whenever I want to access the numpy package after the initial import I can refer to it simply as \"np\" rather than using the full name \"numpy\". The same applies to matplotlib.pyplot. This will be imported as \"plt\" and saves a lot of typing anytime I want to access it.\n",
    "It is standard practice to import numpy as \"np\" and matplotlib.pyploy as \"plt\"."
   ]
  },
  {
   "cell_type": "code",
   "execution_count": 2,
   "metadata": {
    "collapsed": true
   },
   "outputs": [],
   "source": [
    "import numpy as np\n",
    "import matplotlib.pyplot as plt"
   ]
  },
  {
   "cell_type": "markdown",
   "metadata": {},
   "source": [
    "## Question 2. Explain the use of \"Simple Random Data\" & \"Permutations\" functions.\n",
    "This section explains the use of two functions within the numpy.random package. Simple Random Data and Permutations. Before I look at both of these functions I will breifly look at what are random numbers and why anyone would want to generate them.\n",
    "\n",
    "#### What are random numbers.\n",
    "A random number is a number chosen by chance from a larger set of numbers. In a given set of numbers independence and uniformity. A good example of this is a Roulette wheel in a casino. \n",
    "example the lotto.\n",
    "\n",
    "#### Why would you generate random data?\n",
    "What purpose could this serve in data analytics? For me?\n",
    "\n",
    "\n",
    "### Simple Random Data\n",
    "\n",
    "### Permutations\n",
    "\n"
   ]
  },
  {
   "cell_type": "markdown",
   "metadata": {},
   "source": [
    "## Question 3. Explain the use and purpose of at least five distrubtions.\n",
    "\n",
    "Which 5 & why. How I selected them? \n",
    "Explain the use and purpose of at least 5\n",
    "\n",
    "I started be going through the list of distributions on the numpy website. link https://docs.scipy.org/doc/numpy/reference/routines.random.html#distributions\n",
    "At the same time I googled \"what are the most common probability distrubtions\" from this search I found the website \"Cloudera\" and a blog post on that site explains common distributions and provides information on the relationships between each.\n",
    "\n",
    "I also used \"Stat Trek\" to go through their list of probability distributions. The site lists 10 distributions, equally split between Discrete and Continuous distributions. \n"
   ]
  },
  {
   "cell_type": "markdown",
   "metadata": {},
   "source": [
    "### Bernoulli\n",
    "\n",
    "For me this was the easiest to understand and the basis for uniform distrbutions."
   ]
  },
  {
   "cell_type": "markdown",
   "metadata": {},
   "source": [
    "### Uniform"
   ]
  },
  {
   "cell_type": "code",
   "execution_count": 11,
   "metadata": {},
   "outputs": [
    {
     "data": {
      "image/png": "[encoded data removed]",
      "text/plain": [
       "<matplotlib.figure.Figure at 0x10e632390>"
      ]
     },
     "metadata": {},
     "output_type": "display_data"
    }
   ],
   "source": [
    "import numpy as np\n",
    "s = np.random.uniform(-1,0,1000)\n",
    "\n",
    "import matplotlib.pyplot as plt\n",
    "plt.hist(s, 10)\n",
    "plt.show()\n"
   ]
  },
  {
   "cell_type": "markdown",
   "metadata": {},
   "source": [
    "### Binominal"
   ]
  },
  {
   "cell_type": "code",
   "execution_count": 6,
   "metadata": {},
   "outputs": [
    {
     "data": {
      "image/png": "[encoded data removed]",
      "text/plain": [
       "<matplotlib.figure.Figure at 0x10eb61748>"
      ]
     },
     "metadata": {},
     "output_type": "display_data"
    }
   ],
   "source": [
    "s = np.random.binomial(10, .5, 1000)\n",
    "plt.hist(s)\n",
    "plt.show()\n"
   ]
  },
  {
   "cell_type": "code",
   "execution_count": 38,
   "metadata": {},
   "outputs": [
    {
     "data": {
      "text/plain": [
       "array([ 6.37978396,  4.2576576 ,  1.93564663,  0.32332711])"
      ]
     },
     "execution_count": 38,
     "metadata": {},
     "output_type": "execute_result"
    }
   ],
   "source": [
    "np.random.chisquare(2,4)\n"
   ]
  },
  {
   "cell_type": "markdown",
   "metadata": {},
   "source": [
    "### Poisson\n"
   ]
  },
  {
   "cell_type": "code",
   "execution_count": 7,
   "metadata": {},
   "outputs": [
    {
     "data": {
      "image/png": "[encoded data removed]",
      "text/plain": [
       "<matplotlib.figure.Figure at 0x113b95c18>"
      ]
     },
     "metadata": {},
     "output_type": "display_data"
    }
   ],
   "source": [
    "s = np.random.poisson(5, 10000)\n",
    "\n",
    "import matplotlib.pyplot as plt\n",
    "count, bins, ignored = plt.hist(s, 14, density=True)\n",
    "plt.show()"
   ]
  },
  {
   "cell_type": "markdown",
   "metadata": {},
   "source": [
    "### Normal (Gaussian)"
   ]
  },
  {
   "cell_type": "code",
   "execution_count": 10,
   "metadata": {},
   "outputs": [
    {
     "data": {
      "image/png": "[encoded data removed]",
      "text/plain": [
       "<matplotlib.figure.Figure at 0x113cac208>"
      ]
     },
     "metadata": {},
     "output_type": "display_data"
    }
   ],
   "source": [
    "mu, sigma = 0, 0.1 # mean and standard deviation\n",
    "s = np.random.normal(mu, sigma, 1000)\n",
    "\n",
    "abs(mu - np.mean(s)) < 0.01\n",
    "abs(sigma - np.std(s, ddof=1)) < 0.01\n",
    "\n",
    "count, bins, ignored = plt.hist(s, 30, density=True)\n",
    "plt.plot(bins, 1/(sigma * np.sqrt(2 * np.pi)) *\n",
    "                np.exp( - (bins - mu)**2 / (2 * sigma**2) ),\n",
    "          linewidth=2, color='r')\n",
    "plt.show()"
   ]
  },
  {
   "cell_type": "code",
   "execution_count": 11,
   "metadata": {},
   "outputs": [
    {
     "data": {
      "image/png": "[encoded data removed]",
      "text/plain": [
       "<matplotlib.figure.Figure at 0x113cba2e8>"
      ]
     },
     "metadata": {},
     "output_type": "display_data"
    }
   ],
   "source": [
    "### This is without verifying the mean and the variance.\n",
    "\n",
    "mu, sigma = 0, 0.1 # mean and standard deviation\n",
    "s = np.random.normal(mu, sigma, 1000)\n",
    "\n",
    "count, bins, ignored = plt.hist(s, 30, density=True)\n",
    "plt.plot(bins, 1/(sigma * np.sqrt(2 * np.pi)) *\n",
    "                np.exp( - (bins - mu)**2 / (2 * sigma**2) ),\n",
    "          linewidth=2, color='r')\n",
    "plt.show()"
   ]
  },
  {
   "cell_type": "markdown",
   "metadata": {},
   "source": [
    "### Log Normal\n"
   ]
  },
  {
   "cell_type": "code",
   "execution_count": 20,
   "metadata": {},
   "outputs": [
    {
     "data": {
      "image/png": "[encoded data removed]",
      "text/plain": [
       "<matplotlib.figure.Figure at 0x113cbe780>"
      ]
     },
     "metadata": {},
     "output_type": "display_data"
    }
   ],
   "source": [
    "mu, sigma = 3., 1. # mean and standard deviation\n",
    "s = np.random.lognormal(mu, sigma, 1000)\n",
    "\n",
    "count, bins, ignored = plt.hist(s, 100, density=True, align='mid')\n",
    "\n",
    "x = np.linspace(min(bins), max(bins), 10000)\n",
    "pdf = (np.exp(-(np.log(x) - mu)**2 / (2 * sigma**2))\n",
    "       / (x * sigma * np.sqrt(2 * np.pi)))\n",
    "\n",
    "plt.plot(x, pdf, linewidth=2, color='r')\n",
    "plt.axis('tight')\n",
    "plt.show()"
   ]
  },
  {
   "cell_type": "markdown",
   "metadata": {},
   "source": [
    "### Students t"
   ]
  },
  {
   "cell_type": "code",
   "execution_count": 40,
   "metadata": {},
   "outputs": [
    {
     "data": {
      "text/plain": [
       "(3, 4, 2)"
      ]
     },
     "execution_count": 40,
     "metadata": {},
     "output_type": "execute_result"
    }
   ],
   "source": [
    "s = np.random.standard_normal(size=(3, 4, 2))\n",
    "s.shape\n"
   ]
  },
  {
   "cell_type": "markdown",
   "metadata": {},
   "source": [
    "### Issues with some plots\n",
    "\n",
    "I had problems displaying some of the plots / distributions during this assignment. For example chisquare. The code for this on numpy.org is poor, I think! \n",
    "\n",
    "Also note issues with exponential distribution"
   ]
  },
  {
   "cell_type": "markdown",
   "metadata": {},
   "source": [
    "## Question 4.  Explain the use of seeds in generating pseudo random numbers.\n",
    "\n",
    "Explain the use of seeds in generating psuedo randon numbers\n",
    "What is a randon number.\n",
    "\n",
    "How computers generate randon numbers? Seeds."
   ]
  },
  {
   "cell_type": "markdown",
   "metadata": {
    "collapsed": true
   },
   "source": [
    "## References\n"
   ]
  },
  {
   "cell_type": "markdown",
   "metadata": {},
   "source": [
    "python.org 2018, The Python Standard Library, accessed on October 30th 2018, https://docs.python.org/2/library/\n",
    "\n",
    "pypi.org 2018, Python 3 projects, accessed on October 30th 2018,\n",
    "https://pypi.org/search/?c=Programming+Language+%3A%3A+Python+%3A%3A+3&page=3\n",
    "\n",
    "python.org 2018, The Import System, accessed on October 30th 2018, https://docs.python.org/3/reference/import.html\n",
    "\n",
    "Lutz, M. (2013) Lerning Python. 5th edn. USA: O'Reilly Media Inc.\n",
    "\n",
    "Stat Trek https://stattrek.com/tutorials/probability-tutorial.aspx\n",
    "\n",
    "Cloudera http://blog.cloudera.com/blog/2015/12/common-probability-distributions-the-data-scientists-crib-sheet/\n",
    "\n",
    "numpy.org https://docs.scipy.org/doc/numpy/reference/routines.random.html#distributions\n",
    "\n"
   ]
  },
  {
   "cell_type": "code",
   "execution_count": null,
   "metadata": {
    "collapsed": true
   },
   "outputs": [],
   "source": []
  }
 ],
 "metadata": {
  "kernelspec": {
   "display_name": "Python 3",
   "language": "python",
   "name": "python3"
  },
  "language_info": {
   "codemirror_mode": {
    "name": "ipython",
    "version": 3
   },
   "file_extension": ".py",
   "mimetype": "text/x-python",
   "name": "python",
   "nbconvert_exporter": "python",
   "pygments_lexer": "ipython3",
   "version": "3.6.3"
  }
 },
 "nbformat": 4,
 "nbformat_minor": 2
}
