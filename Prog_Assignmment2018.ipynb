{
 "cells": [
  {
   "cell_type": "markdown",
   "metadata": {},
   "source": [
    "# Assignment 2018\n",
    "## Investigation into the use of numpy.random package"
   ]
  },
  {
   "cell_type": "markdown",
   "metadata": {},
   "source": [
    "## Overall purpose of the package.\n",
    "\n",
    "What is numpy? Who what where when how why\n",
    "\n",
    "What is the numpy.random package\n",
    "Dsicussion on how to run the numpy package.\n",
    "Why would you need to / want to generate randon data?\n",
    "What purpose could this serve in data analytics? For me?\n"
   ]
  },
  {
   "cell_type": "markdown",
   "metadata": {},
   "source": [
    "## Two Functions\n",
    "This section explains the use of two functions within the numpy.random package. \n",
    "\n",
    "### Simple Random Data\n",
    "\n",
    "### Permutations\n",
    "\n"
   ]
  },
  {
   "cell_type": "markdown",
   "metadata": {},
   "source": [
    "Five Distrubtions\n",
    "\n",
    "Which 5 & why. How I selected them? "
   ]
  },
  {
   "cell_type": "markdown",
   "metadata": {},
   "source": [
    "### Seeds - Generating pseudo random numbers.\n",
    "\n",
    "Explain the use of seeds in generating psuedo randon numbers\n",
    "What is a randon number.\n",
    "\n",
    "How computers generate randon numbers? Seeds."
   ]
  },
  {
   "cell_type": "code",
   "execution_count": null,
   "metadata": {
    "collapsed": true
   },
   "outputs": [],
   "source": []
  }
 ],
 "metadata": {
  "kernelspec": {
   "display_name": "Python 3",
   "language": "python",
   "name": "python3"
  },
  "language_info": {
   "codemirror_mode": {
    "name": "ipython",
    "version": 3
   },
   "file_extension": ".py",
   "mimetype": "text/x-python",
   "name": "python",
   "nbconvert_exporter": "python",
   "pygments_lexer": "ipython3",
   "version": "3.6.3"
  }
 },
 "nbformat": 4,
 "nbformat_minor": 2
}
