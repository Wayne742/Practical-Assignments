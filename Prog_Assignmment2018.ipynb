{
 "cells": [
  {
   "cell_type": "markdown",
   "metadata": {},
   "source": [
    "# Programming for Data Analytics Assignment 2018\n",
    "## Investigation into the use of numpy.random package"
   ]
  },
  {
   "cell_type": "markdown",
   "metadata": {},
   "source": [
    "## Question 1. Explain the overall purpose of the package.\n",
    "\n",
    "In addition to the Python Standard Library there are thousands of modules and packages available to programmers and developers (python.org,2018). A quick scroll through the pypi.org website, a repository of software for the Python programmng language, will reveal the vast array of packages available (pypi.org 2018). One of the most popular of these is Numpy.\n",
    "\n",
    "Numpy is a package or library for the Python programming language used to carry out mathematical and scientific functions. Numpy has been described as a \"high performance programming extension for Python\" (Lutz,2013,p14). It contains advanced tools such as an array object and interfaces to standard mathemarical libraries (Lutz,2013,p14).\n",
    "It is commonly used in Data Analtyics, Data Science, and Statistics. Numpy.random is part of the Numpy library.\n",
    "\n",
    "The Numpy.random package is used to generate and display randomly generated data and probability distributions.  The package has four libraries each containing numerous functions. The four libraries are Simple Random Data, Permutations, Distributions and Random Generator. Below is an example, of the numpy.random.rand function from the Simple Random Data package. I have displayed the out put of the function in two ways, firstly as a two dimensional array and secondly as a histogram, these are labeled Example 1 and Example 2 respectively.\n",
    "\n",
    "Example 1 explained.\n",
    "\n",
    "Example 2 explained.\n",
    "\n",
    "Example 3 - permutation example\n",
    "\n",
    "Example 4 - Bernoulli distribution.\n",
    "\n",
    "Example 5 - Random Number Generator.\n",
    "\n",
    "#### Importing Nupmy.\n",
    "Before you can use the numpy package in python you have to import it. Importing a module or package allows python code in one module to gain access to python code in another module (python.org,2018). If you have installed Anaconda on your machine then Numpy is available to you as part of the Anaconda programme.\n",
    "\n",
    "Importing is done using the \"import\" command. The code cell below contains the import commands for both numpy and matplotlib.pyplot.\n",
    "\n",
    "Both of these packages have been imported \"as\" something. For example, line 1 in the code cell below is:\n",
    "\n",
    "import numpy as np\n",
    "\n",
    "This means that whenever I want to access the numpy package after the initial import I can refer to it simply as \"np\" rather than using the full name \"numpy\". The same applies to matplotlib.pyplot. This will be imported as \"plt\" and saves a lot of typing anytime I want to access it.\n",
    "It is standard practice to import numpy as \"np\" and matplotlib.pyploy as \"plt\"."
   ]
  },
  {
   "cell_type": "code",
   "execution_count": 1,
   "metadata": {
    "collapsed": true
   },
   "outputs": [],
   "source": [
    "# importing numpy and matplotlib\n",
    "import numpy as np\n",
    "import matplotlib.pyplot as plt"
   ]
  },
  {
   "cell_type": "code",
   "execution_count": 2,
   "metadata": {},
   "outputs": [
    {
     "data": {
      "text/plain": [
       "array([[ 0.31422669,  0.70359935],\n",
       "       [ 0.7964057 ,  0.32396031],\n",
       "       [ 0.42522602,  0.60362383]])"
      ]
     },
     "execution_count": 2,
     "metadata": {},
     "output_type": "execute_result"
    }
   ],
   "source": [
    "# Example 1\n",
    "np.random.rand(3,2)"
   ]
  },
  {
   "cell_type": "code",
   "execution_count": 3,
   "metadata": {},
   "outputs": [
    {
     "data": {
      "image/png": "[encoded data removed]",
      "text/plain": [
       "<matplotlib.figure.Figure at 0x10973ffd0>"
      ]
     },
     "metadata": {},
     "output_type": "display_data"
    }
   ],
   "source": [
    "# Example 2\n",
    "s = np.random.rand(3,2)\n",
    "plt.hist(s)\n",
    "plt.show()"
   ]
  },
  {
   "cell_type": "markdown",
   "metadata": {},
   "source": [
    "#### Example 5 random_integers\n",
    "In the Numpy documentation the function random_integers is described as a function to generate random integers between low and high points, inclusve. The function is deprecated and points to the randint function. I have included it here as an example of how the functions in the numpy.random library have been updated. The code still runs fine and below in Example 5 a random integer is generated."
   ]
  },
  {
   "cell_type": "code",
   "execution_count": 4,
   "metadata": {},
   "outputs": [
    {
     "name": "stderr",
     "output_type": "stream",
     "text": [
      "/anaconda3/lib/python3.6/site-packages/ipykernel_launcher.py:2: DeprecationWarning: This function is deprecated. Please call randint(1, 10 + 1) instead\n",
      "  \n"
     ]
    },
    {
     "data": {
      "text/plain": [
       "2"
      ]
     },
     "execution_count": 4,
     "metadata": {},
     "output_type": "execute_result"
    }
   ],
   "source": [
    "# Example 5 Random Number Generator.\n",
    "np.random.random_integers(10) # The warning below shows that this function has been replaced by randint function.\n"
   ]
  },
  {
   "cell_type": "markdown",
   "metadata": {},
   "source": [
    "#### Example 6 Part 1 - Randint function - Single Integer.\n",
    "The randint function superceeds the random.random_integers( ) function looked at above. This function is used to generate random integers from low to high. This function can be used in several ways.\n",
    "\n",
    "In Example 6.1 the function takes one input, in this example 10, and returns a single integer between 0 and 10 but not including 10. \n",
    "The output is displayed as a single number but can also be displayed as a single line an a Histogram as in Example 6.2."
   ]
  },
  {
   "cell_type": "code",
   "execution_count": 5,
   "metadata": {},
   "outputs": [
    {
     "data": {
      "text/plain": [
       "0"
      ]
     },
     "execution_count": 5,
     "metadata": {},
     "output_type": "execute_result"
    }
   ],
   "source": [
    "# Example 6.1 Random Number Generator.\n",
    "np.random.randint(10) # Generating a random intger between 0 and 10."
   ]
  },
  {
   "cell_type": "code",
   "execution_count": 6,
   "metadata": {},
   "outputs": [
    {
     "data": {
      "image/png": "[encoded data removed]",
      "text/plain": [
       "<matplotlib.figure.Figure at 0x10d7264e0>"
      ]
     },
     "metadata": {},
     "output_type": "display_data"
    }
   ],
   "source": [
    "# Example 6.2 Random Number Generator\n",
    "s = np.random.randint(10) # Assigning the function to the variable s.\n",
    "plt.hist(s) # Calling the matplotlib.pyplot library as plt. And calling for a Histogram.\n",
    "plt.show() # Using the .show command to display the histogram."
   ]
  },
  {
   "cell_type": "markdown",
   "metadata": {},
   "source": [
    "#### Example 6 Part 2 - Randint function - Array.\n",
    "The function can also be used to return an array as shown in the output from Example 6.3 In this this example the first number in the brackets, 4, is the size of the range from which the random number will be drawn. Here I asked for a random number between 0 and 4, not including 4. The second number inside the brackets is the length of the array, 20 numbers long. This means that a random number will be drawn 20 times from the range of numbers 0,1,2.\n",
    "\n",
    "This distrubtion of random numbers can also be displayed as a histogram. In Example 6.4 I have set the size of the array to 30, so the random number will be picked 30 times from two possible outcomes 0 and 1. This type of disribution is also known as a Bernoulli Distribution, my favorite! Learning about the Bernoulli Distribution years ago was my first introduction to Probability Theory and the idea of independent outcomes."
   ]
  },
  {
   "cell_type": "code",
   "execution_count": 7,
   "metadata": {},
   "outputs": [
    {
     "data": {
      "text/plain": [
       "array([1, 0, 1, 2, 3, 2, 0, 3, 3, 1, 1, 3, 2, 2, 3, 1, 1, 1, 0, 2])"
      ]
     },
     "execution_count": 7,
     "metadata": {},
     "output_type": "execute_result"
    }
   ],
   "source": [
    "# Example 6.3 Using the randint function to generate an array.\n",
    "np.random.randint(4,size=20) # Generate an array of random integers between 0 and 1. 10 times. "
   ]
  },
  {
   "cell_type": "code",
   "execution_count": 8,
   "metadata": {},
   "outputs": [
    {
     "data": {
      "image/png": "[encoded data removed]",
      "text/plain": [
       "<matplotlib.figure.Figure at 0x10d7a3e10>"
      ]
     },
     "metadata": {},
     "output_type": "display_data"
    }
   ],
   "source": [
    "# Example 6.4 Using the randint function and displaying the output as a histogram.\n",
    "s = np.random.randint(2,size=30) # Assigning the function to a variable s. \n",
    "plt.hist(s)\n",
    "plt.show()"
   ]
  },
  {
   "cell_type": "code",
   "execution_count": 10,
   "metadata": {},
   "outputs": [
    {
     "data": {
      "image/png": "[encoded data removed]",
      "text/plain": [
       "<matplotlib.figure.Figure at 0x10d930278>"
      ]
     },
     "metadata": {},
     "output_type": "display_data"
    }
   ],
   "source": [
    "b = np.random.randint(6, size=50)\n",
    "plt.hist(b)\n",
    "plt.show()"
   ]
  },
  {
   "cell_type": "markdown",
   "metadata": {},
   "source": [
    "## Question 2. Explain the use of \"Simple Random Data\" & \"Permutations\" functions.\n",
    "This section explains the use of two libraries within the numpy.random package. Simple Random Data and Permutations. Both of these have several functions which can be used to generate and manipulate randomly generated values.\n",
    "\n",
    "Before I look at both of these functions I will breifly look at what are random numbers and why anyone would want to generate them.\n",
    "\n",
    "#### What are random numbers.\n",
    "A random number is a number chosen by chance from a larger set of numbers. In a given set of numbers the probability of any particular number being chosen must be independence and uniform. A good example of this is a Roulette wheel in a casino. The set of numbers in this case is 0 - 36. The probability of any one of those numbers being selected is 1/37, because 0 counts as a number. This of course assumes that the game is not rigged in any way. \n",
    "\n",
    "#### Why would you generate random numbers?\n",
    "The use of random numbers and the concept of randomness itself can be found in all areas of human endeavour. In gaming, the previously mentioned Roulette Wheel is a good example of how random numbers are used for entertainment.\n",
    "\n",
    "In Cryptography the use of randomly generated sequences is prevailent. With encryption algorithms a randomly generated number is used as the \"key\" for the encryption method applied (Wikipedia,2018). There are of course other considerations in cryptography and encryption but this is one way random numbers and sequences are used.\n",
    "\n",
    "In science random numbers and randomness are applied to clinical trials. Random assignment in randomised controlled trials helps scientists test hypotheses and test the efficacy of medications (Wikipedia,2018). \n",
    "\n",
    "#### Generating random numbers. \n",
    "Considering the uses for random numbers and sequences it's hardly surprising that Numpy should have some form of random number generator. The package contains two libraries that are designed to generate random numbers and to manipulate sequences. These are Simple Random Data and Permutations, both are explored below."
   ]
  },
  {
   "cell_type": "markdown",
   "metadata": {},
   "source": [
    "### Simple Random Data\n",
    "Simple Random Data contains several, 10 to be exact, functions for generating random numbers. \n",
    "\n",
    "These are:\n",
    "1. rand\n",
    "2. randn\n",
    "3. randint\n",
    "4. random_integers\n",
    "5. random_sample\n",
    "6. random\n",
    "7. ranf\n",
    "8. sample\n",
    "9. choice\n",
    "10. bytes\n",
    "\n",
    "Here I will look at just four of the functions from the \"Simple Random Data\" library."
   ]
  },
  {
   "cell_type": "markdown",
   "metadata": {},
   "source": [
    "#### random.randn function.\n"
   ]
  },
  {
   "cell_type": "code",
   "execution_count": 48,
   "metadata": {},
   "outputs": [
    {
     "data": {
      "text/plain": [
       "-0.1118997195750844"
      ]
     },
     "execution_count": 48,
     "metadata": {},
     "output_type": "execute_result"
    }
   ],
   "source": [
    "np.random.randn()"
   ]
  },
  {
   "cell_type": "code",
   "execution_count": 9,
   "metadata": {},
   "outputs": [
    {
     "data": {
      "text/plain": [
       "array([[ 2.48554588,  4.29118131,  3.41179628,  4.92861559],\n",
       "       [ 2.87893541,  4.24315964,  3.07123064,  3.26792074],\n",
       "       [ 2.32815093,  3.70265251,  3.90182234,  2.8701915 ],\n",
       "       [ 3.50061596,  2.80343957,  3.90386825,  4.30923284]])"
      ]
     },
     "execution_count": 9,
     "metadata": {},
     "output_type": "execute_result"
    }
   ],
   "source": [
    "np.random.randn(4,4)+3"
   ]
  },
  {
   "cell_type": "markdown",
   "metadata": {},
   "source": [
    "#### random.random function"
   ]
  },
  {
   "cell_type": "code",
   "execution_count": 31,
   "metadata": {},
   "outputs": [
    {
     "data": {
      "text/plain": [
       "0.11283148324305337"
      ]
     },
     "execution_count": 31,
     "metadata": {},
     "output_type": "execute_result"
    }
   ],
   "source": [
    "np.random.random_sample()"
   ]
  },
  {
   "cell_type": "code",
   "execution_count": 30,
   "metadata": {},
   "outputs": [
    {
     "data": {
      "text/plain": [
       "array([ 0.70699804,  0.25616409,  0.24982757,  0.86006121,  0.55869959])"
      ]
     },
     "execution_count": 30,
     "metadata": {},
     "output_type": "execute_result"
    }
   ],
   "source": [
    "np.random.random_sample(5)"
   ]
  },
  {
   "cell_type": "code",
   "execution_count": 28,
   "metadata": {},
   "outputs": [
    {
     "data": {
      "text/plain": [
       "array([[ 0.37203665,  0.34114679],\n",
       "       [ 0.80995148,  0.29079923],\n",
       "       [ 0.04847682,  0.48980136],\n",
       "       [ 0.22880924,  0.4235301 ]])"
      ]
     },
     "execution_count": 28,
     "metadata": {},
     "output_type": "execute_result"
    }
   ],
   "source": [
    "np.random.random_sample((4, 2))"
   ]
  },
  {
   "cell_type": "markdown",
   "metadata": {},
   "source": [
    "#### random.choice function\n",
    "\n",
    "creates chice from unifrom distribution\n",
    "\n",
    "can also be used to generate non-uniform dist"
   ]
  },
  {
   "cell_type": "code",
   "execution_count": 38,
   "metadata": {},
   "outputs": [
    {
     "data": {
      "text/plain": [
       "2"
      ]
     },
     "execution_count": 38,
     "metadata": {},
     "output_type": "execute_result"
    }
   ],
   "source": [
    "np.random.choice(10)"
   ]
  },
  {
   "cell_type": "code",
   "execution_count": 39,
   "metadata": {},
   "outputs": [
    {
     "data": {
      "text/plain": [
       "array([1, 7, 0])"
      ]
     },
     "execution_count": 39,
     "metadata": {},
     "output_type": "execute_result"
    }
   ],
   "source": [
    "np.random.choice(10,3)"
   ]
  },
  {
   "cell_type": "code",
   "execution_count": 41,
   "metadata": {},
   "outputs": [
    {
     "data": {
      "text/plain": [
       "array([2, 3, 3])"
      ]
     },
     "execution_count": 41,
     "metadata": {},
     "output_type": "execute_result"
    }
   ],
   "source": [
    "np.random.choice(10, 3, p=[0.1, 0, 0.3, 0.3, 0.1, 0.1, 0, 0, 0, 0.1])"
   ]
  },
  {
   "cell_type": "markdown",
   "metadata": {},
   "source": [
    "#### random.bytes function."
   ]
  },
  {
   "cell_type": "code",
   "execution_count": 46,
   "metadata": {},
   "outputs": [
    {
     "data": {
      "text/plain": [
       "b'5\\t\\xdc\\x9al\\xe2p\\xda\\x02i'"
      ]
     },
     "execution_count": 46,
     "metadata": {},
     "output_type": "execute_result"
    }
   ],
   "source": [
    "np.random.bytes(10)"
   ]
  },
  {
   "cell_type": "markdown",
   "metadata": {},
   "source": [
    "### Permutations\n",
    "In Permutations therer are two function. Shuffle and Permutations. Both of these functions are used to generate variations of a numbered sequence. Both functions are quite similar in that they act on sequences and re-arrange their order. When either function is applied to a multi-dimensional array,  only \n",
    "\n",
    "#### Shuffle\n",
    "The Shuffle function modifies a sequence of numbers. The numbers are kept the same and only their order has been changed. \n",
    "\n",
    "In Shuffle 1 below I have genereted an ordered sequence of numbers using using the Numpy function arange. This function generates a ordered sequence upto but not including the number in the brackets. In the example below 20 is the number in the brackets so I get a list, 20 numbers long, from 0 to 19. If I put 100 into the brackets I will get a list of 100 numbers from 0 - 99. The list of numbers will always start at 0 unless you tell it otherwise.\n",
    "\n",
    "If I wanted to include 20 in this list I could have the range start at 1 and end at 21. This will give me an ordered sequence from 1 to 20, but not including 21. As in Shuffle 2 below. \n",
    "\n",
    "In the third code cell related to the Shuffle function, Shuffle 3, I have kept the range the same and added two additional lines of code. The output here is the numbers from 1 to 20 in a random order.\n",
    "\n",
    "An interesting point to note here is that when the random.shuffle function is applied to a two dimensional array as in Shuffle 4, the array is shuffled on the first axis."
   ]
  },
  {
   "cell_type": "code",
   "execution_count": 11,
   "metadata": {},
   "outputs": [
    {
     "data": {
      "text/plain": [
       "array([ 0,  1,  2,  3,  4,  5,  6,  7,  8,  9, 10, 11, 12, 13, 14, 15, 16,\n",
       "       17, 18, 19])"
      ]
     },
     "execution_count": 11,
     "metadata": {},
     "output_type": "execute_result"
    }
   ],
   "source": [
    "# Shuffle 1.\n",
    "np.arange(20) # Generate a sequence of 20 numbers. From 0 - 19. Using the Numpy function arange."
   ]
  },
  {
   "cell_type": "code",
   "execution_count": 12,
   "metadata": {},
   "outputs": [
    {
     "data": {
      "text/plain": [
       "array([ 1,  2,  3,  4,  5,  6,  7,  8,  9, 10, 11, 12, 13, 14, 15, 16, 17,\n",
       "       18, 19, 20])"
      ]
     },
     "execution_count": 12,
     "metadata": {},
     "output_type": "execute_result"
    }
   ],
   "source": [
    "# Shuffle 2.\n",
    "np.arange(1, 21) # Changed the starting and ending values. The length of the sequence stays the same."
   ]
  },
  {
   "cell_type": "code",
   "execution_count": 13,
   "metadata": {},
   "outputs": [
    {
     "data": {
      "text/plain": [
       "array([13, 11, 10,  7, 18, 19, 20,  8, 16, 15,  5,  9, 12,  2,  1, 14,  4,\n",
       "        6, 17,  3])"
      ]
     },
     "execution_count": 13,
     "metadata": {},
     "output_type": "execute_result"
    }
   ],
   "source": [
    "# Shuffle 3.\n",
    "shf = np.arange(1, 21) # Assigned the output of the np.arange function to the variable shf.\n",
    "np.random.shuffle(shf) # Using the random.shuffle function to modify the sequence. \n",
    "shf # Displays the now shuffled sequence."
   ]
  },
  {
   "cell_type": "code",
   "execution_count": 14,
   "metadata": {},
   "outputs": [
    {
     "data": {
      "text/plain": [
       "array([[ 9, 10, 11, 12],\n",
       "       [17, 18, 19, 20],\n",
       "       [13, 14, 15, 16],\n",
       "       [ 1,  2,  3,  4],\n",
       "       [ 5,  6,  7,  8]])"
      ]
     },
     "execution_count": 14,
     "metadata": {},
     "output_type": "execute_result"
    }
   ],
   "source": [
    "# Shuffle 4.\n",
    "shf = np.arange(1, 21).reshape((5, 4)) # Create an ordered sequence in 5 rows and 4 columns. Two Dinemsional Array \n",
    "np.random.shuffle(shf) # Use the shuffle function to modify the sequence.\n",
    "shf # Displays the now shuffled sequence."
   ]
  },
  {
   "cell_type": "markdown",
   "metadata": {},
   "source": [
    "#### Permutations\n",
    "To permute something, means to submit it to a process of alteration. This function randomly alters or permutes a given sequence or generates a permuted sequence.\n",
    "\n",
    "In Permute 1 I have used the permute function, random.permutation( ), to generate an altered sequence of 10 numbers from 0 to 9. Because I put the number 10 in the brackets I get an array of 10 numbers from 0 - 9.\n",
    "\n",
    "In the example Permute 2.1, I have supplied a sequence of numbers and the function has returned a permutation of this. This function can also provide the output in the form of a multi dimensional array, as in example Permute 2.2. Here the reshape command tells Python to return the output in a two-dimensional array of 5 rows and 2 columns.\n",
    "\n",
    "According to the Numpy documentation when you use the Permutation function on a multi-dimensional array the array is only shuffled along it's first index. For example in examples Permute 3.1 and 3.2 the permute function is applied to a 3 x 3 array of 9 numbers, 0 - 8. In the first example the 9 number are arranged (3,4,5),(6,7,8), and (0,1,2) and in the second example the same 9 numbers are again arranged in groups of three (0,1,2),(6,7,8) and (3,4,5). The groups of three are kept the same and the order the groups appear in is different.\n",
    "\n",
    "However, when I ran the line of code in example Permute 3.3 I got a completely different result. I still get a 3 x 3 array of 9 numbers but this time the groups of three are shuffled. The only explaination I can think of for this is that in the first case the function np.randon.permutation( ) is applied to a variable in this case arr. Where the variable \"arr\" is a range of 9 number, from 0 - 8, in a 3 x 3 array. While in the second case I ran a single line of code asking Python to return a permutation of 9 numbers, from 0 - 8, reshaped in a 3 x 3 array.\n",
    "\n",
    "With the Permute function I didn't have to use a command to display the output like I did with the Shuffle function."
   ]
  },
  {
   "cell_type": "code",
   "execution_count": 15,
   "metadata": {},
   "outputs": [
    {
     "data": {
      "text/plain": [
       "array([4, 7, 5, 0, 3, 2, 1, 9, 8, 6])"
      ]
     },
     "execution_count": 15,
     "metadata": {},
     "output_type": "execute_result"
    }
   ],
   "source": [
    "# Permute 1\n",
    "np.random.permutation(10) # Permutes a sequence of 10 numbers from 0 to 9."
   ]
  },
  {
   "cell_type": "code",
   "execution_count": 16,
   "metadata": {},
   "outputs": [
    {
     "data": {
      "text/plain": [
       "array([2, 4, 3, 1])"
      ]
     },
     "execution_count": 16,
     "metadata": {},
     "output_type": "execute_result"
    }
   ],
   "source": [
    "# Permute 2.1\n",
    "np.random.permutation([1, 2, 3, 4]) # Here I specified the numbers."
   ]
  },
  {
   "cell_type": "code",
   "execution_count": 17,
   "metadata": {},
   "outputs": [
    {
     "data": {
      "text/plain": [
       "array([[1, 3],\n",
       "       [8, 0],\n",
       "       [9, 6],\n",
       "       [5, 2],\n",
       "       [7, 4]])"
      ]
     },
     "execution_count": 17,
     "metadata": {},
     "output_type": "execute_result"
    }
   ],
   "source": [
    "# Permute 2.2\n",
    "np.random.permutation(10).reshape(5,2) # Added the .reshape command to get the output in 5 rows of 2 columns."
   ]
  },
  {
   "cell_type": "code",
   "execution_count": 18,
   "metadata": {},
   "outputs": [
    {
     "data": {
      "text/plain": [
       "array([[0, 1, 2],\n",
       "       [6, 7, 8],\n",
       "       [3, 4, 5]])"
      ]
     },
     "execution_count": 18,
     "metadata": {},
     "output_type": "execute_result"
    }
   ],
   "source": [
    "# Permute 3.1\n",
    "arr = np.arange(9).reshape((3, 3)) # Assign the np.arange function to the variable \"arr\". Also use the reshape command.\n",
    "np.random.permutation(arr)"
   ]
  },
  {
   "cell_type": "code",
   "execution_count": 19,
   "metadata": {},
   "outputs": [
    {
     "data": {
      "text/plain": [
       "array([[6, 7, 8],\n",
       "       [0, 1, 2],\n",
       "       [3, 4, 5]])"
      ]
     },
     "execution_count": 19,
     "metadata": {},
     "output_type": "execute_result"
    }
   ],
   "source": [
    "# Permute 3.2\n",
    "arr = np.arange(9).reshape((3, 3))\n",
    "np.random.permutation(arr)"
   ]
  },
  {
   "cell_type": "code",
   "execution_count": 20,
   "metadata": {},
   "outputs": [
    {
     "data": {
      "text/plain": [
       "array([[6, 4, 7],\n",
       "       [8, 0, 2],\n",
       "       [5, 3, 1]])"
      ]
     },
     "execution_count": 20,
     "metadata": {},
     "output_type": "execute_result"
    }
   ],
   "source": [
    "# Permute 3.3\n",
    "np.random.permutation(9).reshape((3, 3))"
   ]
  },
  {
   "cell_type": "markdown",
   "metadata": {},
   "source": [
    "#### Recursive Limit\n",
    "Whilst working on this part of the assignment I wondered if the permutations function could provide a list of all the permutations of a sequence. It can, but according to the stackoverflow community this is not straigth forward (stackoverflow.com, 2018). Numerous solutions are provided some using Numpy and others using the itertools or math libraries. Quite a few of the solutions to this ivolved writing functions. One major issue identified here is that of reaching the Recursive Limit. \n",
    "\n",
    "The Recursive Limit is set to avoid crashes. Because recursive functions like Permutations, have high RAM requirements\n",
    " \n",
    "In Python itself, and without importing the Numpy library, premutations can be carried out using itertools. Using this function you can generate all the permutations of a given set of numbers. In Permute 4 I used the import command to import itertools. Then I asked Python to 'list' all the permutatuions of a given set of numbers. In this case I provided the set of numbers 1,2,3,4 and Python returned all the permutations of this sequence. 24 in total beginning with 1,2,3,4 and ending with 4,3,2,1."
   ]
  },
  {
   "cell_type": "code",
   "execution_count": 21,
   "metadata": {},
   "outputs": [
    {
     "data": {
      "text/plain": [
       "[(1, 2, 3, 4),\n",
       " (1, 2, 4, 3),\n",
       " (1, 3, 2, 4),\n",
       " (1, 3, 4, 2),\n",
       " (1, 4, 2, 3),\n",
       " (1, 4, 3, 2),\n",
       " (2, 1, 3, 4),\n",
       " (2, 1, 4, 3),\n",
       " (2, 3, 1, 4),\n",
       " (2, 3, 4, 1),\n",
       " (2, 4, 1, 3),\n",
       " (2, 4, 3, 1),\n",
       " (3, 1, 2, 4),\n",
       " (3, 1, 4, 2),\n",
       " (3, 2, 1, 4),\n",
       " (3, 2, 4, 1),\n",
       " (3, 4, 1, 2),\n",
       " (3, 4, 2, 1),\n",
       " (4, 1, 2, 3),\n",
       " (4, 1, 3, 2),\n",
       " (4, 2, 1, 3),\n",
       " (4, 2, 3, 1),\n",
       " (4, 3, 1, 2),\n",
       " (4, 3, 2, 1)]"
      ]
     },
     "execution_count": 21,
     "metadata": {},
     "output_type": "execute_result"
    }
   ],
   "source": [
    "# Permute 4\n",
    "import itertools\n",
    "list(itertools.permutations([1, 2, 3, 4]))"
   ]
  },
  {
   "cell_type": "markdown",
   "metadata": {},
   "source": [
    "## Question 3. Explain the use and purpose of at least five distrubtions.\n",
    "\n",
    "Which 5 & why. How I selected them? \n",
    "Explain the use and purpose of at least 5\n",
    "\n",
    "I started be going through the list of distributions on the numpy website. link https://docs.scipy.org/doc/numpy/reference/routines.random.html#distributions\n",
    "At the same time I googled \"what are the most common probability distrubtions\" from this search I found the website \"Cloudera\" and a blog post on that site explains common distributions and provides information on the relationships between each.\n",
    "\n",
    "I also used \"Stat Trek\" to go through their list of probability distributions. The site lists 10 distributions, equally split between Discrete and Continuous distributions. \n"
   ]
  },
  {
   "cell_type": "markdown",
   "metadata": {},
   "source": [
    "### Uniform (Continuous) Distribution.\n",
    "The Uniform Distribution is one of the simplest probability distributions in statistics. It is a continuous distribution, that means it takes its values within a specified range (UCD,2018).\n",
    "\n",
    "In the context of probability a Uniform Distribution refers to a probability distribution for which all of the values that a random variable can take on occur with equal probability (Stat trek,2018). An example of a Uniform Distribution is the roll of a single die. In this case the probability of each number comming up is equal to 1/6.\n",
    "\n",
    "#### Uses of Unifrom Distributions.\n",
    "Many of the applications for the Uniform Distribution seem mostly linked to risk management and scenario planning where the probability of the outcomes is equal. "
   ]
  },
  {
   "cell_type": "code",
   "execution_count": 40,
   "metadata": {},
   "outputs": [
    {
     "data": {
      "image/png": "[encoded data removed]",
      "text/plain": [
       "<matplotlib.figure.Figure at 0x10dae7eb8>"
      ]
     },
     "metadata": {},
     "output_type": "display_data"
    }
   ],
   "source": [
    "import numpy as np\n",
    "s = np.random.uniform(0,6,1000)\n",
    "\n",
    "import matplotlib.pyplot as plt\n",
    "plt.hist(s, 6)\n",
    "plt.show()"
   ]
  },
  {
   "cell_type": "markdown",
   "metadata": {},
   "source": [
    "### Binominal Distribution.\n",
    "A Binominal Distribution is a frequency distribution of the possible number of successful outcomes in a given number of trials in each of which there is the same probability of success. It is used where there is only two possible outcomes, either the condition is met or not. A example of this is where a Binominal Distribution is used to model the probability of getting six heads in six successive coin tosses (wikipedia,2018).\n",
    "\n",
    "#### Uses for Binominal Distributions.\n",
    "I would imagine that a very good use of a Binominal Distribution is in the Gambling industry. Casinos can use it to establish what the level of their payouts should be at to make a profit, and also to monitor players and the number of wins they have in particular. For example in the card game, Black Jack, you could establish the probability of a player winning and use this to identify players that appear to win more frequently. "
   ]
  },
  {
   "cell_type": "code",
   "execution_count": 41,
   "metadata": {},
   "outputs": [
    {
     "data": {
      "image/png": "[encoded data removed]",
      "text/plain": [
       "<matplotlib.figure.Figure at 0x10d7259e8>"
      ]
     },
     "metadata": {},
     "output_type": "display_data"
    }
   ],
   "source": [
    "s = np.random.binomial(10, .5, 1000)\n",
    "plt.hist(s)\n",
    "plt.show()"
   ]
  },
  {
   "cell_type": "code",
   "execution_count": 24,
   "metadata": {},
   "outputs": [
    {
     "data": {
      "text/plain": [
       "array([ 0.76390453,  0.81987338,  0.41911377,  2.3800897 ])"
      ]
     },
     "execution_count": 24,
     "metadata": {},
     "output_type": "execute_result"
    }
   ],
   "source": [
    "np.random.chisquare(2,4)\n"
   ]
  },
  {
   "cell_type": "markdown",
   "metadata": {},
   "source": [
    "### Poisson Distribution.\n",
    "A Poission Distribution expresses the probability of a given number of events occurring in a fixed interval of time or space if these events occur with a known constant rate and independently of the time since the last event. There are a number of assumptions required for a Poisson Distribution including:\n",
    "\n",
    "1. The number of times an event occurs in an interval must be known. \n",
    "2. The rate at which events occur is constant.\n",
    "3. Two events connot occur at exactly the same time.\n",
    "4. The events must be independent of one another.\n",
    "\n",
    "#### Uses for Poisson Distributions.\n",
    "The Poisson Distribution is useful for modelling the number of times on event occurs in a given time of space for example 'the number of paitents arriving at an emergency department between 10pm and 11pm'(wikipedia, 2018). Or the number of customers visiting a store or calling a contact centre on Fridays."
   ]
  },
  {
   "cell_type": "code",
   "execution_count": 31,
   "metadata": {},
   "outputs": [
    {
     "data": {
      "image/png": "[encoded data removed]",
      "text/plain": [
       "<matplotlib.figure.Figure at 0x10db5bb00>"
      ]
     },
     "metadata": {},
     "output_type": "display_data"
    }
   ],
   "source": [
    "s = np.random.poisson(10, 10000)\n",
    "\n",
    "import matplotlib.pyplot as plt\n",
    "count, bins, ignored = plt.hist(s, 20, density=True)\n",
    "plt.show()"
   ]
  },
  {
   "cell_type": "markdown",
   "metadata": {},
   "source": [
    "### Normal (Gaussian) Distribution."
   ]
  },
  {
   "cell_type": "markdown",
   "metadata": {},
   "source": [
    "In probability theory the Normal Distribution is very common. Often referred to as a 'bell curve' the normal distribution is one of the most widely used distributions in statistics. Normal distributions demonsrate how data deivates from the mean of the data. A normal distribution is symmetric around the mean of the data set and approximately 95% of the area in a normal distribution is within two standard deviations from the mean (onlinestatbook.com, 2018).\n",
    "\n",
    "#### Uses for the Normal Distribution.\n",
    "The Normal Distribution appears frequently in everyday life, for example Height of Men in a given population.\n",
    "In industry the Normal Distrobuion is most commonly associated with the Six-Sigma quality programme developed by Motorola in 1980. This has now become a globally recognised quality management system."
   ]
  },
  {
   "cell_type": "code",
   "execution_count": 26,
   "metadata": {},
   "outputs": [
    {
     "data": {
      "image/png": "[encoded data removed]",
      "text/plain": [
       "<matplotlib.figure.Figure at 0x10dac8e10>"
      ]
     },
     "metadata": {},
     "output_type": "display_data"
    }
   ],
   "source": [
    "mu, sigma = 0, 0.1 # mean and standard deviation\n",
    "s = np.random.normal(mu, sigma, 1000)\n",
    "\n",
    "abs(mu - np.mean(s)) < 0.01\n",
    "abs(sigma - np.std(s, ddof=1)) < 0.01\n",
    "\n",
    "count, bins, ignored = plt.hist(s, 30, density=True)\n",
    "plt.plot(bins, 1/(sigma * np.sqrt(2 * np.pi)) *\n",
    "                np.exp( - (bins - mu)**2 / (2 * sigma**2) ),\n",
    "          linewidth=2, color='r')\n",
    "plt.show()"
   ]
  },
  {
   "cell_type": "code",
   "execution_count": 27,
   "metadata": {},
   "outputs": [
    {
     "data": {
      "image/png": "[encoded data removed]",
      "text/plain": [
       "<matplotlib.figure.Figure at 0x10dbac860>"
      ]
     },
     "metadata": {},
     "output_type": "display_data"
    }
   ],
   "source": [
    "### This is without verifying the mean and the variance.\n",
    "\n",
    "mu, sigma = 0, 0.1 # mean and standard deviation\n",
    "s = np.random.normal(mu, sigma, 1000)\n",
    "\n",
    "count, bins, ignored = plt.hist(s, 30, density=True)\n",
    "plt.plot(bins, 1/(sigma * np.sqrt(2 * np.pi)) *\n",
    "                np.exp( - (bins - mu)**2 / (2 * sigma**2) ),\n",
    "          linewidth=2, color='r')\n",
    "plt.show()"
   ]
  },
  {
   "cell_type": "markdown",
   "metadata": {},
   "source": [
    "### Log-normal (Galton) Distribution.\n"
   ]
  },
  {
   "cell_type": "markdown",
   "metadata": {},
   "source": [
    "A lognormal or Galton distribution is a probability distribution with a normally distributed logarithm. A random variable is lognormally distributed if its logarithm is normally distributed. Skewed distributions with low mean values, large variance and all positive values often fit this type of distribution. Values must be positive as log(x) exists only for positive values of x (statisticshowto.com,2018). \n",
    "\n",
    "#### Uses for Log-normal distributions.\n",
    "Normal and Log-normal distributions are commonly used today when dealing with probability and variability. The log-normal distribution is often closely related to 'species abundance', latent periods of infectious diseases and the distrubtion of mineral resources in the earths crust' (Limpret et al, 2001).\n",
    "\n",
    "What is a Logarithm?\n",
    "A logarithm is the power to which a number must be raised in order to get some other number. For example the base 10 logarithim of 100 is 2. Because 10 to the power of 2 equals 100 (University of Minnesota,2018).\n",
    "(Note: I'm certain that you know what a logarithm is, I didn't and had to look it up.)"
   ]
  },
  {
   "cell_type": "code",
   "execution_count": 28,
   "metadata": {},
   "outputs": [
    {
     "data": {
      "image/png": "[encoded data removed]",
      "text/plain": [
       "<matplotlib.figure.Figure at 0x10d795c50>"
      ]
     },
     "metadata": {},
     "output_type": "display_data"
    }
   ],
   "source": [
    "mu, sigma = 3., 1. # Assign values for mean and standard deviation.\n",
    "s = np.random.lognormal(mu, sigma, 1000)\n",
    "\n",
    "count, bins, ignored = plt.hist(s, 100, density=True, align='mid')\n",
    "\n",
    "x = np.linspace(min(bins), max(bins), 10000)\n",
    "pdf = (np.exp(-(np.log(x) - mu)**2 / (2 * sigma**2))\n",
    "       / (x * sigma * np.sqrt(2 * np.pi)))\n",
    "\n",
    "plt.plot(x, pdf, linewidth=2, color='r')\n",
    "plt.axis('tight')\n",
    "plt.show()"
   ]
  },
  {
   "cell_type": "markdown",
   "metadata": {},
   "source": [
    "## Question 4.  Explain the use of seeds in generating pseudo random numbers.\n",
    "There are two types of random numbers, firstly, true random numbers and secondly, pseudo random numbers. An example of a true random number would be the length of time between lighting flashes or the rate of radioactive decay of an atom, according to quantum theory there is no way to know for sure when an atom will decay so it is truly random (HowToGeek,2018). Computers cannot generate true random numbers, instead they generate pseudo random numbers. \n",
    "\n",
    "Pseudo random numbers are numbers that appear to be generated randomly.\n",
    "A pseudorandom process is a process that appears to be random but is not. Pseudorandom sequences typically exhibit statistical randomness while being generated by an entirely deterministic causal process. Such a process is easier to produce than a genuinely random one, and has the benefit that it can be used again and again to produce exactly the same numbers, which is useful for testing and fixing software\n",
    "\n",
    "A random seed (or seed state, or just seed) is a number (or vector) used to initialize a pseudorandom number generator.\n",
    "\n",
    "For a seed to be used in a pseudorandom number generator, it does not need to be random. Because of the nature of number generating algorithms, so long as the original seed is ignored, the rest of the values that the algorithm generates will follow probability distribution in a pseudorandom manner.\n",
    "\n",
    "The choice of a good random seed is crucial in the field of computer security. When a secret encryption key is pseudorandomly generated, having the seed will allow one to obtain the key. High entropy is important for selecting good random seed data.[1]\n",
    "\n",
    "If the same random seed is deliberately shared, it becomes a secret key, so two or more systems using matching pseudorandom number algorithms and matching seeds can generate matching sequences of non-repeating numbers which can be used to synchronize remote systems, such as GPS satellites and receivers.\n",
    "\n",
    "Random seeds are often generated from the state of the computer system (such as the time), a cryptographically secure pseudorandom number generator or from a hardware random number generator.\n",
    "\n",
    "How computers generate randon numbers? Seeds."
   ]
  },
  {
   "cell_type": "code",
   "execution_count": 50,
   "metadata": {
    "collapsed": true
   },
   "outputs": [],
   "source": [
    "np.random.seed()"
   ]
  },
  {
   "cell_type": "markdown",
   "metadata": {
    "collapsed": true
   },
   "source": [
    "## References\n"
   ]
  },
  {
   "cell_type": "markdown",
   "metadata": {},
   "source": [
    "python.org 2018, The Python Standard Library, accessed on October 30th 2018, https://docs.python.org/2/library/\n",
    "\n",
    "pypi.org 2018, Python 3 projects, accessed on October 30th 2018,\n",
    "https://pypi.org/search/?c=Programming+Language+%3A%3A+Python+%3A%3A+3&page=3\n",
    "\n",
    "python.org 2018, The Import System, accessed on October 30th 2018, https://docs.python.org/3/reference/import.html\n",
    "\n",
    "Lutz, M. (2013) Lerning Python. 5th edn. USA: O'Reilly Media Inc.\n",
    "\n",
    "python.org 2018, Built in exceptions, accessed on November 5th 2018.\n",
    "https://docs.python.org/2/library/exceptions.html#exceptions.DeprecationWarning\n",
    "\n",
    "Stat Trek 2018, https://stattrek.com/tutorials/probability-tutorial.aspx\n",
    "\n",
    "Cloudera http://blog.cloudera.com/blog/2015/12/common-probability-distributions-the-data-scientists-crib-sheet/\n",
    "\n",
    "numpy.org https://docs.scipy.org/doc/numpy/reference/routines.random.html#distributions\n",
    "\n",
    "stackoverflow.com 2018, How to generate all permuations of a list in Python, accessed on November 4th 2018, https://stackoverflow.com/questions/104420/how-to-generate-all-permutations-of-a-list-in-python\n",
    "\n",
    "Wikipedia.org 2018, Applications of Randomness, accessed on 11th November 2018,\n",
    "https://en.wikipedia.org/wiki/Applications_of_randomness\n",
    "\n",
    "UCD.ie 2018, Statistics: Uniform Distribution, accessed on 11th November 2018.\n",
    "https://www.ucd.ie/t4cms/Uniform%20Distribution.pdf\n",
    "\n",
    "Stat Trek 2018,Uniform Distribution, accessed on 11th November 2018,\n",
    "https://stattrek.com/statistics/dictionary.aspx?definition=uniform_distribution\n",
    "\n",
    "Wikipedia.org 2018, Binominal Distribution, accessed on 11th November 2018,\n",
    "https://en.wikipedia.org/wiki/Binomial_distribution\n",
    "\n",
    "Wikipedia.org 2018, Poisson Distribution, accessed on 11th November 2018.\n",
    "https://en.wikipedia.org/wiki/Poisson_distribution\n",
    "\n",
    "Onlinestatbook.com 2018, 'Introduction to Normal Distributions',accessed on 11th November 2018.\n",
    "http://onlinestatbook.com/2/normal_distribution/intro.html\n",
    "\n",
    "Statistichowto.datasciencecentral.com 2018, Log-normal Distribution: Definition and Examples, accessed on 11th November 2018, https://www.statisticshowto.datasciencecentral.com/lognormal-distribution/\n",
    "\n",
    "University of Minnesota 2018, 'What is a logarithm', accessed on 11th November 2018. http://www.mclph.umn.edu/mathrefresh/logs.html\n",
    "\n",
    "Eckhard, L. Werner, A.s. Markus, A.(2001) 'Log-normal Distributions across the Sciences: Keys and Clues', Bioscience, 51(5), pp 341-352. Accessed on 11th November 2018. https://stat.ethz.ch/~stahel/lognormal/bioscience.pdf\n",
    "\n",
    "Howtogeek.com 2018, How computers generate random numbers, accessed on 11th November 2018,\n",
    "https://www.howtogeek.com/183051/htg-explains-how-computers-generate-random-numbers/\n",
    "\n",
    "\n",
    "\n"
   ]
  },
  {
   "cell_type": "code",
   "execution_count": null,
   "metadata": {
    "collapsed": true
   },
   "outputs": [],
   "source": []
  }
 ],
 "metadata": {
  "kernelspec": {
   "display_name": "Python 3",
   "language": "python",
   "name": "python3"
  },
  "language_info": {
   "codemirror_mode": {
    "name": "ipython",
    "version": 3
   },
   "file_extension": ".py",
   "mimetype": "text/x-python",
   "name": "python",
   "nbconvert_exporter": "python",
   "pygments_lexer": "ipython3",
   "version": "3.6.3"
  }
 },
 "nbformat": 4,
 "nbformat_minor": 2
}
